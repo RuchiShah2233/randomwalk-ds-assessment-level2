{
 "cells": [
  {
   "cell_type": "code",
   "execution_count": 1,
   "id": "6a5f9614-0325-461d-a685-28375cd7bef2",
   "metadata": {},
   "outputs": [
    {
     "name": "stdout",
     "output_type": "stream",
     "text": [
      "   bill_length_mm  bill_depth_mm  flipper_length_mm  body_mass_g\n",
      "0       -0.882230       0.787743      -1.422488e+00    -0.470213\n",
      "1       -0.808355       0.126556      -1.065352e+00    -0.425343\n",
      "2       -0.660604       0.431719      -4.225067e-01    -0.918910\n",
      "3        0.000000       0.000000      -2.030084e-15     0.000000\n",
      "4       -1.325483       1.092905      -5.653611e-01    -0.739431\n"
     ]
    }
   ],
   "source": [
    "import pandas as pd\n",
    "from sklearn.preprocessing import StandardScaler\n",
    "\n",
    "file_path = 'cleaned_dataset.csv' \n",
    "data = pd.read_csv(file_path)\n",
    "\n",
    "numerical_cols = ['bill_length_mm', 'bill_depth_mm', 'flipper_length_mm', 'body_mass_g']\n",
    "numerical_data = data[numerical_cols]\n",
    "\n",
    "scaler = StandardScaler()\n",
    "\n",
    "normalized_data = scaler.fit_transform(numerical_data)\n",
    "\n",
    "normalized_df = pd.DataFrame(normalized_data, columns=numerical_cols)\n",
    "\n",
    "print(normalized_df.head())"
   ]
  }
 ],
 "metadata": {
  "kernelspec": {
   "display_name": "Python 3 (ipykernel)",
   "language": "python",
   "name": "python3"
  },
  "language_info": {
   "codemirror_mode": {
    "name": "ipython",
    "version": 3
   },
   "file_extension": ".py",
   "mimetype": "text/x-python",
   "name": "python",
   "nbconvert_exporter": "python",
   "pygments_lexer": "ipython3",
   "version": "3.12.5"
  }
 },
 "nbformat": 4,
 "nbformat_minor": 5
}
