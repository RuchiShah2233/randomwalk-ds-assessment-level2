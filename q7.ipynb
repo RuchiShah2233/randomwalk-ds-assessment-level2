{
 "cells": [
  {
   "cell_type": "code",
   "execution_count": 1,
   "id": "d1cc515e-fe0e-457d-9cd2-5becf1134bc4",
   "metadata": {},
   "outputs": [
    {
     "name": "stdout",
     "output_type": "stream",
     "text": [
      "     species     island  flipper_length_mm\n",
      "4     Gentoo     Biscoe              231.0\n",
      "3  Chinstrap      Dream              212.0\n",
      "2     Adelie  Torgersen              210.0\n"
     ]
    }
   ],
   "source": [
    "import pandas as pd\n",
    "\n",
    "file_path = 'cleaned_dataset.csv'  \n",
    "data = pd.read_csv(file_path)\n",
    "\n",
    "max_flipper = data.groupby(['species', 'island'])['flipper_length_mm'].max().reset_index()\n",
    "\n",
    "max_flipper_species = max_flipper.loc[max_flipper.groupby('island')['flipper_length_mm'].idxmax()]\n",
    "\n",
    "print(max_flipper_species)"
   ]
  }
 ],
 "metadata": {
  "kernelspec": {
   "display_name": "Python 3 (ipykernel)",
   "language": "python",
   "name": "python3"
  },
  "language_info": {
   "codemirror_mode": {
    "name": "ipython",
    "version": 3
   },
   "file_extension": ".py",
   "mimetype": "text/x-python",
   "name": "python",
   "nbconvert_exporter": "python",
   "pygments_lexer": "ipython3",
   "version": "3.12.5"
  }
 },
 "nbformat": 4,
 "nbformat_minor": 5
}
